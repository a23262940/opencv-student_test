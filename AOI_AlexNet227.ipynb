{
 "cells": [
  {
   "cell_type": "code",
   "execution_count": 2,
   "metadata": {},
   "outputs": [],
   "source": [
    "import keras\n",
    "from keras.models import Sequential,Input,Model\n",
    "from keras.layers import Dense, Dropout, Flatten\n",
    "from keras.layers import Conv2D, MaxPooling2D\n",
    "from keras.layers.advanced_activations import LeakyReLU\n",
    "import tensorflow as tf\n",
    "from tensorflow import keras\n",
    "import keras.layers as layers\n",
    "import pandas as pd,cv2,numpy as np\n",
    "image_size = 227"
   ]
  },
  {
   "cell_type": "markdown",
   "metadata": {},
   "source": [
    "https://thecleverprogrammer.com/2021/12/13/alexnet-architecture-using-python/"
   ]
  },
  {
   "cell_type": "code",
   "execution_count": 3,
   "metadata": {},
   "outputs": [
    {
     "name": "stdout",
     "output_type": "stream",
     "text": [
      "Model: \"sequential\"\n",
      "_________________________________________________________________\n",
      " Layer (type)                Output Shape              Param #   \n",
      "=================================================================\n",
      " conv2d (Conv2D)             (None, 55, 55, 96)        11712     \n",
      "                                                                 \n",
      " batch_normalization (BatchN  (None, 55, 55, 96)       384       \n",
      " ormalization)                                                   \n",
      "                                                                 \n",
      " max_pooling2d (MaxPooling2D  (None, 27, 27, 96)       0         \n",
      " )                                                               \n",
      "                                                                 \n",
      " conv2d_1 (Conv2D)           (None, 27, 27, 256)       614656    \n",
      "                                                                 \n",
      " batch_normalization_1 (Batc  (None, 27, 27, 256)      1024      \n",
      " hNormalization)                                                 \n",
      "                                                                 \n",
      " max_pooling2d_1 (MaxPooling  (None, 13, 13, 256)      0         \n",
      " 2D)                                                             \n",
      "                                                                 \n",
      " conv2d_2 (Conv2D)           (None, 13, 13, 384)       885120    \n",
      "                                                                 \n",
      " batch_normalization_2 (Batc  (None, 13, 13, 384)      1536      \n",
      " hNormalization)                                                 \n",
      "                                                                 \n",
      " conv2d_3 (Conv2D)           (None, 13, 13, 384)       1327488   \n",
      "                                                                 \n",
      " batch_normalization_3 (Batc  (None, 13, 13, 384)      1536      \n",
      " hNormalization)                                                 \n",
      "                                                                 \n",
      " conv2d_4 (Conv2D)           (None, 13, 13, 256)       884992    \n",
      "                                                                 \n",
      " batch_normalization_4 (Batc  (None, 13, 13, 256)      1024      \n",
      " hNormalization)                                                 \n",
      "                                                                 \n",
      " max_pooling2d_2 (MaxPooling  (None, 6, 6, 256)        0         \n",
      " 2D)                                                             \n",
      "                                                                 \n",
      " flatten (Flatten)           (None, 9216)              0         \n",
      "                                                                 \n",
      " dense (Dense)               (None, 4096)              37752832  \n",
      "                                                                 \n",
      " dropout (Dropout)           (None, 4096)              0         \n",
      "                                                                 \n",
      " dense_1 (Dense)             (None, 6)                 24582     \n",
      "                                                                 \n",
      "=================================================================\n",
      "Total params: 41,506,886\n",
      "Trainable params: 41,504,134\n",
      "Non-trainable params: 2,752\n",
      "_________________________________________________________________\n"
     ]
    }
   ],
   "source": [
    "# Create AlexNet\n",
    "model = keras.Sequential()\n",
    "model.add(layers.Conv2D(filters=96, kernel_size=(11, 11), \n",
    "                        strides=(4, 4), activation=\"relu\", \n",
    "                        input_shape=(image_size, image_size, 1)))   #image_size更改大小跟通套數會影響結果\n",
    "model.add(layers.BatchNormalization())\n",
    "model.add(layers.MaxPool2D(pool_size=(3, 3), strides= (2, 2)))\n",
    "model.add(layers.Conv2D(filters=256, kernel_size=(5, 5), \n",
    "                        strides=(1, 1), activation=\"relu\", \n",
    "                        padding=\"same\"))\n",
    "model.add(layers.BatchNormalization())\n",
    "model.add(layers.MaxPool2D(pool_size=(3, 3), strides=(2, 2)))\n",
    "model.add(layers.Conv2D(filters=384, kernel_size=(3, 3), \n",
    "                        strides=(1, 1), activation=\"relu\", \n",
    "                        padding=\"same\"))\n",
    "model.add(layers.BatchNormalization())\n",
    "model.add(layers.Conv2D(filters=384, kernel_size=(3, 3), \n",
    "                        strides=(1, 1), activation=\"relu\", \n",
    "                        padding=\"same\"))\n",
    "model.add(layers.BatchNormalization())\n",
    "model.add(layers.Conv2D(filters=256, kernel_size=(3, 3), \n",
    "                        strides=(1, 1), activation=\"relu\", \n",
    "                        padding=\"same\"))\n",
    "model.add(layers.BatchNormalization())\n",
    "model.add(layers.MaxPool2D(pool_size=(3, 3), strides=(2, 2)))\n",
    "model.add(layers.Flatten())\n",
    "model.add(layers.Dense(4096, activation=\"relu\"))\n",
    "model.add(layers.Dropout(0.5))\n",
    "model.add(layers.Dense(6, activation=\"softmax\"))\n",
    "model.compile(loss='sparse_categorical_crossentropy', \n",
    "            optimizer=tf.keras.optimizers.SGD(learning_rate=0.001), \n",
    "            metrics=['accuracy'])\n",
    "model.summary()"
   ]
  },
  {
   "cell_type": "code",
   "execution_count": 15,
   "metadata": {},
   "outputs": [
    {
     "data": {
      "text/plain": [
       "array([[0],\n",
       "       [1],\n",
       "       [1],\n",
       "       ...,\n",
       "       [3],\n",
       "       [0],\n",
       "       [5]], dtype=int64)"
      ]
     },
     "execution_count": 15,
     "metadata": {},
     "output_type": "execute_result"
    }
   ],
   "source": [
    "# Load Train Data\n",
    "train_images,train_labels = [],[]\n",
    "height = pd.read_csv('train.csv')\n",
    "for index in range(len(height.index)):\n",
    "#     print(index)     \n",
    "    img = cv2.resize(cv2.imread('train_images/%s'%(str(height.iloc[index, 0])),0),(image_size,image_size))\n",
    "    train_images.append(img)\n",
    "    train_labels.append(height.iloc[index,1])\n",
    "np.reshape(train_labels,(len(train_images),1))"
   ]
  },
  {
   "cell_type": "code",
   "execution_count": 16,
   "metadata": {},
   "outputs": [
    {
     "name": "stdout",
     "output_type": "stream",
     "text": [
      "(2528, 227, 227)\n",
      "(2528,)\n"
     ]
    }
   ],
   "source": [
    "from sklearn.model_selection import train_test_split\n",
    "train_images = np.array(train_images,dtype=np.float32)\n",
    "train_labels = np.array(train_labels,dtype=np.float32)\n",
    "# print(train_images)\n",
    "# print(train_images/255.0)\n",
    "print(train_images.shape)\n",
    "print(train_labels.shape)"
   ]
  },
  {
   "cell_type": "code",
   "execution_count": null,
   "metadata": {},
   "outputs": [],
   "source": [
    "# train_image,test_image, train_label , test_label = train_test_split(train_images, train_labels, test_size=0.8, random_state=42)\n",
    "# train_image,test_image, train_label , test_label"
   ]
  },
  {
   "cell_type": "code",
   "execution_count": 17,
   "metadata": {},
   "outputs": [
    {
     "name": "stdout",
     "output_type": "stream",
     "text": [
      "Epoch 1/70\n",
      "24/24 [==============================] - 2s 63ms/step - loss: 1.7385 - accuracy: 0.5488 - val_loss: 5.7068 - val_accuracy: 0.2757\n",
      "Epoch 2/70\n",
      "24/24 [==============================] - 1s 47ms/step - loss: 0.7870 - accuracy: 0.7520 - val_loss: 4.7469 - val_accuracy: 0.3085\n",
      "Epoch 3/70\n",
      "24/24 [==============================] - 1s 48ms/step - loss: 0.4930 - accuracy: 0.8325 - val_loss: 4.7378 - val_accuracy: 0.2576\n",
      "Epoch 4/70\n",
      "24/24 [==============================] - 1s 47ms/step - loss: 0.4157 - accuracy: 0.8615 - val_loss: 3.2394 - val_accuracy: 0.2616\n",
      "Epoch 5/70\n",
      "24/24 [==============================] - 1s 48ms/step - loss: 0.2814 - accuracy: 0.9090 - val_loss: 2.1803 - val_accuracy: 0.3277\n",
      "Epoch 6/70\n",
      "24/24 [==============================] - 1s 47ms/step - loss: 0.2101 - accuracy: 0.9288 - val_loss: 1.7090 - val_accuracy: 0.5435\n",
      "Epoch 7/70\n",
      "24/24 [==============================] - 1s 48ms/step - loss: 0.2240 - accuracy: 0.9222 - val_loss: 1.6469 - val_accuracy: 0.4599\n",
      "Epoch 8/70\n",
      "24/24 [==============================] - 1s 48ms/step - loss: 0.2163 - accuracy: 0.9195 - val_loss: 1.1797 - val_accuracy: 0.6045\n",
      "Epoch 9/70\n",
      "24/24 [==============================] - 1s 47ms/step - loss: 0.1696 - accuracy: 0.9406 - val_loss: 0.8894 - val_accuracy: 0.6497\n",
      "Epoch 10/70\n",
      "24/24 [==============================] - 1s 48ms/step - loss: 0.1295 - accuracy: 0.9565 - val_loss: 0.6484 - val_accuracy: 0.7740\n",
      "Epoch 11/70\n",
      "24/24 [==============================] - 1s 48ms/step - loss: 0.1387 - accuracy: 0.9499 - val_loss: 0.6574 - val_accuracy: 0.7881\n",
      "Epoch 12/70\n",
      "24/24 [==============================] - 1s 48ms/step - loss: 0.1046 - accuracy: 0.9644 - val_loss: 0.7643 - val_accuracy: 0.7384\n",
      "Epoch 13/70\n",
      "24/24 [==============================] - 1s 48ms/step - loss: 0.1084 - accuracy: 0.9710 - val_loss: 0.4034 - val_accuracy: 0.8644\n",
      "Epoch 14/70\n",
      "24/24 [==============================] - 1s 48ms/step - loss: 0.0914 - accuracy: 0.9683 - val_loss: 0.4540 - val_accuracy: 0.8000\n",
      "Epoch 15/70\n",
      "24/24 [==============================] - 1s 59ms/step - loss: 0.0643 - accuracy: 0.9763 - val_loss: 0.4250 - val_accuracy: 0.8390\n",
      "Epoch 16/70\n",
      "24/24 [==============================] - 1s 47ms/step - loss: 0.0545 - accuracy: 0.9828 - val_loss: 0.4714 - val_accuracy: 0.8486\n",
      "Epoch 17/70\n",
      "24/24 [==============================] - 1s 48ms/step - loss: 0.0476 - accuracy: 0.9868 - val_loss: 0.4927 - val_accuracy: 0.8017\n",
      "Epoch 18/70\n",
      "24/24 [==============================] - 1s 48ms/step - loss: 0.0430 - accuracy: 0.9881 - val_loss: 0.2834 - val_accuracy: 0.9062\n",
      "Epoch 19/70\n",
      "24/24 [==============================] - 1s 48ms/step - loss: 0.0303 - accuracy: 0.9908 - val_loss: 0.2238 - val_accuracy: 0.9215\n",
      "Epoch 20/70\n",
      "24/24 [==============================] - 1s 48ms/step - loss: 0.0547 - accuracy: 0.9749 - val_loss: 1.4579 - val_accuracy: 0.5667\n",
      "Epoch 21/70\n",
      "24/24 [==============================] - 1s 49ms/step - loss: 0.0503 - accuracy: 0.9881 - val_loss: 0.3212 - val_accuracy: 0.8763\n",
      "Epoch 22/70\n",
      "24/24 [==============================] - 1s 47ms/step - loss: 0.0305 - accuracy: 0.9934 - val_loss: 0.7858 - val_accuracy: 0.6927\n",
      "Epoch 23/70\n",
      "24/24 [==============================] - 1s 48ms/step - loss: 0.0443 - accuracy: 0.9868 - val_loss: 0.1959 - val_accuracy: 0.9316\n",
      "Epoch 24/70\n",
      "24/24 [==============================] - 1s 48ms/step - loss: 0.0346 - accuracy: 0.9868 - val_loss: 1.2180 - val_accuracy: 0.6831\n",
      "Epoch 25/70\n",
      "24/24 [==============================] - 1s 48ms/step - loss: 0.0229 - accuracy: 0.9947 - val_loss: 0.1235 - val_accuracy: 0.9701\n",
      "Epoch 26/70\n",
      "24/24 [==============================] - 1s 50ms/step - loss: 0.0207 - accuracy: 0.9947 - val_loss: 0.2771 - val_accuracy: 0.9051\n",
      "Epoch 27/70\n",
      "24/24 [==============================] - 1s 49ms/step - loss: 0.0337 - accuracy: 0.9894 - val_loss: 0.4593 - val_accuracy: 0.8209\n",
      "Epoch 28/70\n",
      "24/24 [==============================] - 1s 48ms/step - loss: 0.0284 - accuracy: 0.9894 - val_loss: 0.4251 - val_accuracy: 0.8678\n",
      "Epoch 29/70\n",
      "24/24 [==============================] - 1s 48ms/step - loss: 0.0301 - accuracy: 0.9934 - val_loss: 0.6334 - val_accuracy: 0.8266\n",
      "Epoch 30/70\n",
      "24/24 [==============================] - 1s 48ms/step - loss: 0.0393 - accuracy: 0.9868 - val_loss: 0.3730 - val_accuracy: 0.8395\n",
      "Epoch 31/70\n",
      "24/24 [==============================] - 1s 48ms/step - loss: 0.0251 - accuracy: 0.9960 - val_loss: 0.3998 - val_accuracy: 0.8983\n",
      "Epoch 32/70\n",
      "24/24 [==============================] - 1s 48ms/step - loss: 0.0124 - accuracy: 0.9987 - val_loss: 0.2445 - val_accuracy: 0.9124\n",
      "Epoch 33/70\n",
      "24/24 [==============================] - 1s 48ms/step - loss: 0.0164 - accuracy: 0.9987 - val_loss: 0.4104 - val_accuracy: 0.8751\n",
      "Epoch 34/70\n",
      "24/24 [==============================] - 1s 48ms/step - loss: 0.0243 - accuracy: 0.9921 - val_loss: 0.1633 - val_accuracy: 0.9486\n",
      "Epoch 35/70\n",
      "24/24 [==============================] - 1s 48ms/step - loss: 0.0169 - accuracy: 0.9974 - val_loss: 0.2145 - val_accuracy: 0.9277\n",
      "Epoch 36/70\n",
      "24/24 [==============================] - 1s 48ms/step - loss: 0.0197 - accuracy: 0.9934 - val_loss: 0.2491 - val_accuracy: 0.9209\n",
      "Epoch 37/70\n",
      "24/24 [==============================] - 1s 48ms/step - loss: 0.0164 - accuracy: 0.9960 - val_loss: 0.2151 - val_accuracy: 0.9492\n",
      "Epoch 38/70\n",
      "24/24 [==============================] - 1s 48ms/step - loss: 0.0198 - accuracy: 0.9960 - val_loss: 0.2204 - val_accuracy: 0.9237\n",
      "Epoch 39/70\n",
      "24/24 [==============================] - 1s 49ms/step - loss: 0.0155 - accuracy: 0.9947 - val_loss: 1.9567 - val_accuracy: 0.6034\n",
      "Epoch 40/70\n",
      "24/24 [==============================] - 1s 50ms/step - loss: 0.0150 - accuracy: 0.9960 - val_loss: 0.1687 - val_accuracy: 0.9492\n",
      "Epoch 41/70\n",
      "24/24 [==============================] - 1s 48ms/step - loss: 0.0128 - accuracy: 0.9987 - val_loss: 0.2411 - val_accuracy: 0.9181\n",
      "Epoch 42/70\n",
      "24/24 [==============================] - 1s 48ms/step - loss: 0.0081 - accuracy: 1.0000 - val_loss: 0.1300 - val_accuracy: 0.9593\n",
      "Epoch 43/70\n",
      "24/24 [==============================] - 1s 48ms/step - loss: 0.0072 - accuracy: 1.0000 - val_loss: 0.1080 - val_accuracy: 0.9627\n",
      "Epoch 44/70\n",
      "24/24 [==============================] - 1s 48ms/step - loss: 0.0129 - accuracy: 0.9974 - val_loss: 0.1544 - val_accuracy: 0.9441\n",
      "Epoch 45/70\n",
      "24/24 [==============================] - 1s 49ms/step - loss: 0.0113 - accuracy: 0.9974 - val_loss: 0.0982 - val_accuracy: 0.9650\n",
      "Epoch 46/70\n",
      "24/24 [==============================] - 1s 49ms/step - loss: 0.0190 - accuracy: 0.9947 - val_loss: 0.1753 - val_accuracy: 0.9412\n",
      "Epoch 47/70\n",
      "24/24 [==============================] - 1s 49ms/step - loss: 0.0130 - accuracy: 0.9974 - val_loss: 0.4835 - val_accuracy: 0.8576\n",
      "Epoch 48/70\n",
      "24/24 [==============================] - 1s 48ms/step - loss: 0.0111 - accuracy: 0.9987 - val_loss: 0.2414 - val_accuracy: 0.9096\n",
      "Epoch 49/70\n",
      "24/24 [==============================] - 1s 49ms/step - loss: 0.0097 - accuracy: 0.9974 - val_loss: 0.1361 - val_accuracy: 0.9548\n",
      "Epoch 50/70\n",
      "24/24 [==============================] - 1s 48ms/step - loss: 0.0226 - accuracy: 0.9894 - val_loss: 0.1171 - val_accuracy: 0.9655\n",
      "Epoch 51/70\n",
      "24/24 [==============================] - 1s 48ms/step - loss: 0.0065 - accuracy: 1.0000 - val_loss: 0.1008 - val_accuracy: 0.9706\n",
      "Epoch 52/70\n",
      "24/24 [==============================] - 1s 48ms/step - loss: 0.0072 - accuracy: 1.0000 - val_loss: 0.5753 - val_accuracy: 0.8028\n",
      "Epoch 53/70\n",
      "24/24 [==============================] - 1s 48ms/step - loss: 0.0072 - accuracy: 0.9987 - val_loss: 0.2116 - val_accuracy: 0.9169\n",
      "Epoch 54/70\n",
      "24/24 [==============================] - 1s 48ms/step - loss: 0.0135 - accuracy: 0.9974 - val_loss: 0.1369 - val_accuracy: 0.9503\n",
      "Epoch 55/70\n",
      "24/24 [==============================] - 1s 48ms/step - loss: 0.0136 - accuracy: 0.9960 - val_loss: 0.1352 - val_accuracy: 0.9559\n",
      "Epoch 56/70\n",
      "24/24 [==============================] - 1s 48ms/step - loss: 0.0107 - accuracy: 0.9974 - val_loss: 0.1900 - val_accuracy: 0.9237\n",
      "Epoch 57/70\n",
      "24/24 [==============================] - 1s 48ms/step - loss: 0.0081 - accuracy: 0.9987 - val_loss: 0.1816 - val_accuracy: 0.9407\n",
      "Epoch 58/70\n",
      "24/24 [==============================] - 1s 48ms/step - loss: 0.0037 - accuracy: 1.0000 - val_loss: 0.1553 - val_accuracy: 0.9463\n"
     ]
    },
    {
     "name": "stdout",
     "output_type": "stream",
     "text": [
      "Epoch 59/70\n",
      "24/24 [==============================] - 1s 48ms/step - loss: 0.0059 - accuracy: 0.9987 - val_loss: 0.2281 - val_accuracy: 0.9260\n",
      "Epoch 60/70\n",
      "24/24 [==============================] - 1s 48ms/step - loss: 0.0169 - accuracy: 0.9947 - val_loss: 0.6319 - val_accuracy: 0.7751\n",
      "Epoch 61/70\n",
      "24/24 [==============================] - 1s 48ms/step - loss: 0.0068 - accuracy: 1.0000 - val_loss: 0.1301 - val_accuracy: 0.9661\n",
      "Epoch 62/70\n",
      "24/24 [==============================] - 1s 48ms/step - loss: 0.0230 - accuracy: 0.9934 - val_loss: 1.0700 - val_accuracy: 0.7395\n",
      "Epoch 63/70\n",
      "24/24 [==============================] - 1s 48ms/step - loss: 0.0066 - accuracy: 1.0000 - val_loss: 0.1450 - val_accuracy: 0.9554\n",
      "Epoch 64/70\n",
      "24/24 [==============================] - 1s 49ms/step - loss: 0.0040 - accuracy: 1.0000 - val_loss: 0.0982 - val_accuracy: 0.9667\n",
      "Epoch 65/70\n",
      "24/24 [==============================] - 1s 49ms/step - loss: 0.0036 - accuracy: 1.0000 - val_loss: 0.1164 - val_accuracy: 0.9616\n",
      "Epoch 66/70\n",
      "24/24 [==============================] - 1s 49ms/step - loss: 0.0027 - accuracy: 1.0000 - val_loss: 0.1616 - val_accuracy: 0.9492\n",
      "Epoch 67/70\n",
      "24/24 [==============================] - 1s 49ms/step - loss: 0.0067 - accuracy: 0.9987 - val_loss: 0.1127 - val_accuracy: 0.9661\n",
      "Epoch 68/70\n",
      "24/24 [==============================] - 1s 48ms/step - loss: 0.0049 - accuracy: 0.9987 - val_loss: 0.2209 - val_accuracy: 0.9232\n",
      "Epoch 69/70\n",
      "24/24 [==============================] - 1s 48ms/step - loss: 0.0040 - accuracy: 1.0000 - val_loss: 0.1167 - val_accuracy: 0.9633\n",
      "Epoch 70/70\n",
      "24/24 [==============================] - 1s 48ms/step - loss: 0.0069 - accuracy: 0.9987 - val_loss: 0.0903 - val_accuracy: 0.9768\n"
     ]
    }
   ],
   "source": [
    "# Training\n",
    "import tensorflow as tf\n",
    "with tf.device('/gpu:1'):\n",
    "    history = model.fit(train_images,train_labels,epochs=70,batch_size=32,validation_split=0.7) # "
   ]
  },
  {
   "cell_type": "code",
   "execution_count": 18,
   "metadata": {},
   "outputs": [
    {
     "name": "stdout",
     "output_type": "stream",
     "text": [
      "[[9.2794330e-08 1.7052659e-04 1.9534988e-07 9.9982101e-01 2.9860014e-06\n",
      "  5.1555353e-06]]\n",
      "1419 3\n"
     ]
    }
   ],
   "source": [
    "import random,numpy as np\n",
    "x = random.randint(0, len(train_images))\n",
    "result = model.predict(train_images[x].reshape(-1,image_size,image_size,1))\n",
    "print(result)\n",
    "print(x,np.argmax(result))"
   ]
  },
  {
   "cell_type": "code",
   "execution_count": 19,
   "metadata": {},
   "outputs": [
    {
     "data": {
      "image/png": "[encoded data removed]",
      "text/plain": [
       "<Figure size 432x288 with 1 Axes>"
      ]
     },
     "metadata": {
      "needs_background": "light"
     },
     "output_type": "display_data"
    },
    {
     "data": {
      "image/png": "[encoded data removed]",
      "text/plain": [
       "<Figure size 432x288 with 1 Axes>"
      ]
     },
     "metadata": {
      "needs_background": "light"
     },
     "output_type": "display_data"
    }
   ],
   "source": [
    "import matplotlib.pyplot as plt\n",
    "# 绘制训练 & 验证的准确率值\n",
    "plt.plot(history.history['accuracy'])\n",
    "plt.plot(history.history['val_accuracy'])\n",
    "plt.title('Model accuracy')\n",
    "plt.ylabel('Accuracy')\n",
    "plt.xlabel('Epoch')\n",
    "plt.legend(['Train', 'Test'], loc='upper left')\n",
    "plt.show()\n",
    "# 绘制训练 & 验证的损失值\n",
    "plt.plot(history.history['loss'])\n",
    "plt.plot(history.history['val_loss'])\n",
    "plt.title('Model loss')\n",
    "plt.ylabel('Loss')\n",
    "plt.xlabel('Epoch')\n",
    "plt.legend(['Train', 'Test'], loc='upper left')\n",
    "plt.show()\n"
   ]
  },
  {
   "cell_type": "code",
   "execution_count": 20,
   "metadata": {},
   "outputs": [
    {
     "name": "stdout",
     "output_type": "stream",
     "text": [
      "79/79 [==============================] - 1s 10ms/step - loss: 0.0644 - accuracy: 0.9838\n",
      "test_loss: 0.06442102044820786\n",
      "test_acc: 0.983781635761261\n"
     ]
    }
   ],
   "source": [
    "with tf.device('/gpu:0'):\n",
    "    train_loss, train_acc = model.evaluate(train_images,  train_labels)\n",
    "print('test_loss:', train_loss)\n",
    "print('test_acc:', train_acc)"
   ]
  },
  {
   "cell_type": "code",
   "execution_count": 21,
   "metadata": {},
   "outputs": [],
   "source": [
    "model.save('Final_AOI_Alexnet_%d.h5'%(image_size))"
   ]
  },
  {
   "cell_type": "code",
   "execution_count": 24,
   "metadata": {},
   "outputs": [
    {
     "name": "stdout",
     "output_type": "stream",
     "text": [
      "0 1\n",
      "1000 0\n",
      "2000 0\n",
      "3000 1\n",
      "4000 3\n",
      "5000 1\n",
      "6000 0\n",
      "7000 5\n",
      "8000 5\n",
      "9000 0\n",
      "10000 5\n"
     ]
    }
   ],
   "source": [
    "from keras.models import load_model\n",
    "import csv,pandas as pd,cv2,numpy as np\n",
    "model = load_model('Final_AOI_Alexnet_%d.h5'%(image_size)) #載入訓練好的模型\n",
    "# Load Test Data\n",
    "test_images = []\n",
    "height = pd.read_csv('test.csv')\n",
    "with tf.device('/gpu:1'):\n",
    "    for index in range(len(height.index)):    \n",
    "        img = cv2.resize(cv2.imread('test_images/%s'%(str(height.iloc[index, 0])),-1),(image_size,image_size))\n",
    "        result = model.predict(img.reshape(-1,image_size,image_size,1))\n",
    "        if index % 1000 == 0:\n",
    "            print(index,np.argmax(result))\n",
    "        with open('Final_alexnet_%d.csv'%(image_size), 'a+', newline='') as csvfile:\n",
    "                writer = csv.writer(csvfile)\n",
    "                writer.writerow([str(height.iloc[index, 0]), np.argmax(result)])"
   ]
  }
 ],
 "metadata": {
  "interpreter": {
   "hash": "49cb93f377a7abe7414b7b0f21fb3017538004a126cf690fb524202736b7fb92"
  },
  "kernelspec": {
   "display_name": "Python 3 (ipykernel)",
   "language": "python",
   "name": "python3"
  },
  "language_info": {
   "codemirror_mode": {
    "name": "ipython",
    "version": 3
   },
   "file_extension": ".py",
   "mimetype": "text/x-python",
   "name": "python",
   "nbconvert_exporter": "python",
   "pygments_lexer": "ipython3",
   "version": "3.9.7"
  }
 },
 "nbformat": 4,
 "nbformat_minor": 2
}

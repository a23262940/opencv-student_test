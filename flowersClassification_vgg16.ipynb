{
 "cells": [
  {
   "cell_type": "code",
   "execution_count": 10,
   "metadata": {},
   "outputs": [
    {
     "name": "stdout",
     "output_type": "stream",
     "text": [
      "Tensorflow version 2.8.0\n"
     ]
    }
   ],
   "source": [
    "#https://www.kaggle.com/code/sejalkshirsagar/aicvs-flower-classification-cnn-keras\n",
    "import os\n",
    "import numpy as np # linear algebra\n",
    "\n",
    "import cv2\n",
    "import matplotlib.pyplot as plt\n",
    "\n",
    "from sklearn.model_selection import train_test_split\n",
    "from sklearn.metrics import classification_report, confusion_matrix\n",
    "\n",
    "import tensorflow as tf\n",
    "from tensorflow.keras.utils import plot_model\n",
    "from tensorflow.keras.utils import to_categorical\n",
    "from keras.preprocessing.image import ImageDataGenerator\n",
    "from tensorflow.keras.applications import VGG16\n",
    "\n",
    "from keras.models import Sequential, Model\n",
    "from tensorflow.keras.optimizers import Adam\n",
    "from keras.layers import Conv2D, MaxPooling2D\n",
    "from keras.layers import Dropout, Flatten, Activation, Dense\n",
    "\n",
    "print(\"Tensorflow version \" + tf.__version__)"
   ]
  },
  {
   "cell_type": "code",
   "execution_count": 11,
   "metadata": {},
   "outputs": [
    {
     "data": {
      "text/plain": [
       "(3452, 3452)"
      ]
     },
     "execution_count": 11,
     "metadata": {},
     "output_type": "execute_result"
    }
   ],
   "source": [
    "IMAGE_DIM = 224,224\n",
    "CLASSES = ['daisy', 'dandelion', 'rose', 'sunflower', 'tulip']\n",
    "src = './flowers/train'\n",
    "train = []\n",
    "\n",
    "for i in CLASSES:\n",
    "    path = os.path.join(src,i)\n",
    "    idx = CLASSES.index(i)\n",
    "    for img in os.listdir(path):\n",
    "        if img.endswith('.jpg'):\n",
    "            img_array = cv2.imread(os.path.join(path, img), cv2.IMREAD_COLOR)\n",
    "            img_array = cv2.resize(img_array, IMAGE_DIM)\n",
    "            train.append([img_array, idx])\n",
    "            \n",
    "X=[] #Training images\n",
    "y=[] #labels\n",
    "for i,j in train:\n",
    "    X.append(i)\n",
    "    y.append(j)\n",
    "\n",
    "len(X), len(y)"
   ]
  },
  {
   "cell_type": "code",
   "execution_count": 12,
   "metadata": {},
   "outputs": [
    {
     "data": {
      "text/plain": [
       "((2761, 224, 224, 3), (2761, 5), (691, 224, 224, 3), (691, 5))"
      ]
     },
     "execution_count": 12,
     "metadata": {},
     "output_type": "execute_result"
    }
   ],
   "source": [
    "#Reshaping & Normalizing\n",
    "X = np.array(X).reshape(-1,*IMAGE_DIM,3)/255.0\n",
    "\n",
    "#OneHotEncoding\n",
    "y = to_categorical(y)\n",
    "\n",
    "#Spliting train data into training & validation sets\n",
    "x_train, x_valid, y_train, y_valid = train_test_split(X, y, test_size = 0.2, random_state = 9)\n",
    "\n",
    "np.shape(x_train), np.shape(y_train), np.shape(x_valid), np.shape(y_valid)"
   ]
  },
  {
   "cell_type": "code",
   "execution_count": 13,
   "metadata": {},
   "outputs": [
    {
     "data": {
      "text/plain": [
       "(865, 224, 224, 3)"
      ]
     },
     "execution_count": 13,
     "metadata": {},
     "output_type": "execute_result"
    }
   ],
   "source": [
    "src = './flowers/test'\n",
    "X_test = []\n",
    "filenames = []\n",
    "for i in CLASSES:\n",
    "    path = os.path.join(src,i)\n",
    "    idx = CLASSES.index(i)\n",
    "    for img in os.listdir(path):\n",
    "        if img.endswith('.jpg'):\n",
    "            img_array = cv2.imread(os.path.join(path,img), cv2.IMREAD_COLOR)\n",
    "            img_array = cv2.resize(img_array, IMAGE_DIM)\n",
    "            filenames.append(img)\n",
    "            X_test.append(img_array)\n",
    "        \n",
    "#Reshaping & Normalizing\n",
    "X_test = np.array(X_test).reshape(-1,*IMAGE_DIM,3)/255.0\n",
    "\n",
    "np.shape(X_test)"
   ]
  },
  {
   "cell_type": "code",
   "execution_count": 14,
   "metadata": {},
   "outputs": [],
   "source": [
    "datagen = ImageDataGenerator(\n",
    "            featurewise_center = False,  # set input mean to 0 over the dataset\n",
    "            samplewise_center = False,  # set each sample mean to 0\n",
    "            featurewise_std_normalization = False,  # divide inputs by std of the dataset\n",
    "            samplewise_std_normalization = False,  # divide each input by its std\n",
    "            zca_whitening = False,  # apply ZCA whitening\n",
    "            rotation_range = 30,  # randomly rotate images in the range (degrees, 0 to 180)\n",
    "            zoom_range = 0.1, # Randomly zoom image \n",
    "            width_shift_range = 0.2,  # randomly shift images horizontally (fraction of total width)\n",
    "            height_shift_range = 0.2,  # randomly shift images vertically (fraction of total height)\n",
    "            horizontal_flip = True,  # randomly flip images\n",
    "            vertical_flip = False )  # randomly flip images\n",
    "\n",
    "datagen.fit(x_train)"
   ]
  },
  {
   "cell_type": "code",
   "execution_count": 15,
   "metadata": {},
   "outputs": [
    {
     "name": "stdout",
     "output_type": "stream",
     "text": [
      "Model: \"model_1\"\n",
      "_________________________________________________________________\n",
      " Layer (type)                Output Shape              Param #   \n",
      "=================================================================\n",
      " input_2 (InputLayer)        [(None, 224, 224, 3)]     0         \n",
      "                                                                 \n",
      " block1_conv1 (Conv2D)       (None, 224, 224, 64)      1792      \n",
      "                                                                 \n",
      " block1_conv2 (Conv2D)       (None, 224, 224, 64)      36928     \n",
      "                                                                 \n",
      " block1_pool (MaxPooling2D)  (None, 112, 112, 64)      0         \n",
      "                                                                 \n",
      " block2_conv1 (Conv2D)       (None, 112, 112, 128)     73856     \n",
      "                                                                 \n",
      " block2_conv2 (Conv2D)       (None, 112, 112, 128)     147584    \n",
      "                                                                 \n",
      " block2_pool (MaxPooling2D)  (None, 56, 56, 128)       0         \n",
      "                                                                 \n",
      " block3_conv1 (Conv2D)       (None, 56, 56, 256)       295168    \n",
      "                                                                 \n",
      " block3_conv2 (Conv2D)       (None, 56, 56, 256)       590080    \n",
      "                                                                 \n",
      " block3_conv3 (Conv2D)       (None, 56, 56, 256)       590080    \n",
      "                                                                 \n",
      " block3_pool (MaxPooling2D)  (None, 28, 28, 256)       0         \n",
      "                                                                 \n",
      " block4_conv1 (Conv2D)       (None, 28, 28, 512)       1180160   \n",
      "                                                                 \n",
      " block4_conv2 (Conv2D)       (None, 28, 28, 512)       2359808   \n",
      "                                                                 \n",
      " block4_conv3 (Conv2D)       (None, 28, 28, 512)       2359808   \n",
      "                                                                 \n",
      " block4_pool (MaxPooling2D)  (None, 14, 14, 512)       0         \n",
      "                                                                 \n",
      " block5_conv1 (Conv2D)       (None, 14, 14, 512)       2359808   \n",
      "                                                                 \n",
      " block5_conv2 (Conv2D)       (None, 14, 14, 512)       2359808   \n",
      "                                                                 \n",
      " block5_conv3 (Conv2D)       (None, 14, 14, 512)       2359808   \n",
      "                                                                 \n",
      " block5_pool (MaxPooling2D)  (None, 7, 7, 512)         0         \n",
      "                                                                 \n",
      " flatten_1 (Flatten)         (None, 25088)             0         \n",
      "                                                                 \n",
      " dense_2 (Dense)             (None, 1024)              25691136  \n",
      "                                                                 \n",
      " dense_3 (Dense)             (None, 5)                 5125      \n",
      "                                                                 \n",
      "=================================================================\n",
      "Total params: 40,410,949\n",
      "Trainable params: 25,696,261\n",
      "Non-trainable params: 14,714,688\n",
      "_________________________________________________________________\n"
     ]
    }
   ],
   "source": [
    "vgg = VGG16(weights=\"imagenet\", include_top=False, input_shape=(224, 224, 3))  \n",
    "vgg.trainable = False\n",
    "x = vgg.output\n",
    "x = Flatten()(x)\n",
    "x = Dense(1024, activation=\"relu\")(x)\n",
    "y = Dense(5, activation=\"softmax\")(x)\n",
    "\t\n",
    "my_model = Model(inputs=vgg.input, outputs=y)\n",
    "my_model.summary()"
   ]
  },
  {
   "cell_type": "code",
   "execution_count": 16,
   "metadata": {},
   "outputs": [],
   "source": [
    "my_model.compile(optimizer = Adam(learning_rate = 0.001),\n",
    "              loss = 'categorical_crossentropy',\n",
    "              metrics = ['accuracy'])"
   ]
  },
  {
   "cell_type": "code",
   "execution_count": 17,
   "metadata": {},
   "outputs": [],
   "source": [
    "#from tensorflow.keras import backend as K\n",
    "#K.clear_session()"
   ]
  },
  {
   "cell_type": "code",
   "execution_count": 18,
   "metadata": {},
   "outputs": [
    {
     "name": "stdout",
     "output_type": "stream",
     "text": [
      "Epoch 1/35\n",
      "43/43 [==============================] - 29s 580ms/step - loss: 6.0387 - accuracy: 0.4438 - val_loss: 0.9296 - val_accuracy: 0.6729\n",
      "Epoch 2/35\n",
      "43/43 [==============================] - 21s 498ms/step - loss: 0.7018 - accuracy: 0.7445 - val_loss: 0.6362 - val_accuracy: 0.7656\n",
      "Epoch 3/35\n",
      "43/43 [==============================] - 22s 504ms/step - loss: 0.5660 - accuracy: 0.7864 - val_loss: 0.6146 - val_accuracy: 0.7902\n",
      "Epoch 4/35\n",
      "43/43 [==============================] - 22s 501ms/step - loss: 0.5513 - accuracy: 0.7998 - val_loss: 0.5647 - val_accuracy: 0.8061\n",
      "Epoch 5/35\n",
      "43/43 [==============================] - 22s 504ms/step - loss: 0.4695 - accuracy: 0.8369 - val_loss: 0.6068 - val_accuracy: 0.7902\n",
      "Epoch 6/35\n",
      "43/43 [==============================] - 23s 521ms/step - loss: 0.4388 - accuracy: 0.8428 - val_loss: 0.5221 - val_accuracy: 0.8278\n",
      "Epoch 7/35\n",
      "43/43 [==============================] - 22s 510ms/step - loss: 0.4016 - accuracy: 0.8539 - val_loss: 0.5792 - val_accuracy: 0.8075\n",
      "Epoch 8/35\n",
      "43/43 [==============================] - 22s 513ms/step - loss: 0.3817 - accuracy: 0.8576 - val_loss: 0.5343 - val_accuracy: 0.8191\n",
      "Epoch 9/35\n",
      "43/43 [==============================] - 23s 542ms/step - loss: 0.3656 - accuracy: 0.8639 - val_loss: 0.5530 - val_accuracy: 0.8104\n",
      "Epoch 10/35\n",
      "43/43 [==============================] - 22s 512ms/step - loss: 0.3801 - accuracy: 0.8628 - val_loss: 0.4951 - val_accuracy: 0.8336\n",
      "Epoch 11/35\n",
      "43/43 [==============================] - 22s 509ms/step - loss: 0.3367 - accuracy: 0.8732 - val_loss: 0.5005 - val_accuracy: 0.8365\n",
      "Epoch 12/35\n",
      "43/43 [==============================] - 22s 516ms/step - loss: 0.3132 - accuracy: 0.8847 - val_loss: 0.6662 - val_accuracy: 0.7902\n",
      "Epoch 13/35\n",
      "43/43 [==============================] - 22s 511ms/step - loss: 0.3301 - accuracy: 0.8750 - val_loss: 0.5316 - val_accuracy: 0.8148\n",
      "Epoch 14/35\n",
      "43/43 [==============================] - 22s 517ms/step - loss: 0.3429 - accuracy: 0.8695 - val_loss: 0.5377 - val_accuracy: 0.8205\n",
      "Epoch 15/35\n",
      "43/43 [==============================] - 22s 519ms/step - loss: 0.2631 - accuracy: 0.9047 - val_loss: 0.4873 - val_accuracy: 0.8336\n",
      "Epoch 16/35\n",
      "43/43 [==============================] - 22s 520ms/step - loss: 0.2917 - accuracy: 0.8973 - val_loss: 0.4864 - val_accuracy: 0.8336\n",
      "Epoch 17/35\n",
      "43/43 [==============================] - 22s 513ms/step - loss: 0.2784 - accuracy: 0.9025 - val_loss: 0.4954 - val_accuracy: 0.8495\n",
      "Epoch 18/35\n",
      "43/43 [==============================] - 23s 534ms/step - loss: 0.2521 - accuracy: 0.9066 - val_loss: 0.4920 - val_accuracy: 0.8466\n",
      "Epoch 19/35\n",
      "43/43 [==============================] - 23s 529ms/step - loss: 0.2312 - accuracy: 0.9195 - val_loss: 0.4959 - val_accuracy: 0.8408\n",
      "Epoch 20/35\n",
      "43/43 [==============================] - 23s 518ms/step - loss: 0.2604 - accuracy: 0.9032 - val_loss: 0.5213 - val_accuracy: 0.8379\n",
      "Epoch 21/35\n",
      "43/43 [==============================] - 23s 527ms/step - loss: 0.2195 - accuracy: 0.9203 - val_loss: 0.5383 - val_accuracy: 0.8365\n",
      "Epoch 22/35\n",
      "43/43 [==============================] - 23s 524ms/step - loss: 0.2420 - accuracy: 0.9151 - val_loss: 0.5926 - val_accuracy: 0.8191\n",
      "Epoch 23/35\n",
      "43/43 [==============================] - 22s 500ms/step - loss: 0.3057 - accuracy: 0.8906 - val_loss: 0.7430 - val_accuracy: 0.7786\n",
      "Epoch 24/35\n",
      "43/43 [==============================] - 22s 512ms/step - loss: 0.2527 - accuracy: 0.9017 - val_loss: 0.5439 - val_accuracy: 0.8307\n",
      "Epoch 25/35\n",
      "43/43 [==============================] - 22s 513ms/step - loss: 0.2307 - accuracy: 0.9173 - val_loss: 0.5518 - val_accuracy: 0.8321\n",
      "Epoch 26/35\n",
      "43/43 [==============================] - 22s 518ms/step - loss: 0.2168 - accuracy: 0.9225 - val_loss: 0.5324 - val_accuracy: 0.8350\n",
      "Epoch 27/35\n",
      "43/43 [==============================] - 22s 519ms/step - loss: 0.2211 - accuracy: 0.9125 - val_loss: 0.5806 - val_accuracy: 0.8350\n",
      "Epoch 28/35\n",
      "43/43 [==============================] - 23s 528ms/step - loss: 0.2350 - accuracy: 0.9173 - val_loss: 0.5491 - val_accuracy: 0.8336\n",
      "Epoch 29/35\n",
      "43/43 [==============================] - 22s 512ms/step - loss: 0.2293 - accuracy: 0.9147 - val_loss: 0.5102 - val_accuracy: 0.8466\n",
      "Epoch 30/35\n",
      "43/43 [==============================] - 22s 511ms/step - loss: 0.1999 - accuracy: 0.9251 - val_loss: 0.5407 - val_accuracy: 0.8466\n",
      "Epoch 31/35\n",
      "43/43 [==============================] - 22s 516ms/step - loss: 0.1946 - accuracy: 0.9247 - val_loss: 0.5274 - val_accuracy: 0.8423\n",
      "Epoch 32/35\n",
      "43/43 [==============================] - 23s 533ms/step - loss: 0.1510 - accuracy: 0.9440 - val_loss: 0.5886 - val_accuracy: 0.8423\n",
      "Epoch 33/35\n",
      "43/43 [==============================] - 23s 540ms/step - loss: 0.1837 - accuracy: 0.9329 - val_loss: 0.6084 - val_accuracy: 0.8321\n",
      "Epoch 34/35\n",
      "43/43 [==============================] - 23s 522ms/step - loss: 0.1935 - accuracy: 0.9336 - val_loss: 0.5982 - val_accuracy: 0.8220\n",
      "Epoch 35/35\n",
      "43/43 [==============================] - 23s 523ms/step - loss: 0.1711 - accuracy: 0.9362 - val_loss: 0.6057 - val_accuracy: 0.8321\n"
     ]
    }
   ],
   "source": [
    "EPOCHS = 10\n",
    "BATCH_SIZE = 64\n",
    "NUM_TRAINING_IMAGES = x_train.shape[0]\n",
    "STEPS_PER_EPOCH = NUM_TRAINING_IMAGES // BATCH_SIZE\n",
    "\n",
    "history = my_model.fit(datagen.flow(x_train, y_train, batch_size = BATCH_SIZE),\n",
    "                        epochs = EPOCHS, verbose = 1, \n",
    "                        validation_data = (x_valid,y_valid),\n",
    "                        steps_per_epoch = STEPS_PER_EPOCH)"
   ]
  },
  {
   "cell_type": "code",
   "execution_count": 21,
   "metadata": {},
   "outputs": [
    {
     "name": "stdout",
     "output_type": "stream",
     "text": [
      "11/11 [==============================] - 2s 188ms/step - loss: 0.6057 - accuracy: 0.8321\n",
      "Validation loss, accuracy: [0.6057178378105164, 0.8321273326873779]\n"
     ]
    }
   ],
   "source": [
    "results = my_model.evaluate(x_valid, y_valid, batch_size = BATCH_SIZE)\n",
    "print(\"Validation loss, accuracy:\", results)"
   ]
  },
  {
   "cell_type": "code",
   "execution_count": 23,
   "metadata": {},
   "outputs": [
    {
     "data": {
      "image/png": "[encoded data removed]",
      "text/plain": [
       "<Figure size 864x360 with 1 Axes>"
      ]
     },
     "metadata": {
      "needs_background": "light"
     },
     "output_type": "display_data"
    }
   ],
   "source": [
    "plt.figure(figsize=(12,5))\n",
    "plt.plot(history.history['accuracy'])\n",
    "plt.plot(history.history['val_accuracy'])\n",
    "plt.title('Model Accuracy')\n",
    "plt.ylabel('Accuracy')\n",
    "plt.xlabel('Epochs')\n",
    "plt.legend(['train', 'valid'])\n",
    "plt.show()"
   ]
  },
  {
   "cell_type": "code",
   "execution_count": 24,
   "metadata": {},
   "outputs": [
    {
     "data": {
      "image/png": "[encoded data removed]",
      "text/plain": [
       "<Figure size 864x360 with 1 Axes>"
      ]
     },
     "metadata": {
      "needs_background": "light"
     },
     "output_type": "display_data"
    }
   ],
   "source": [
    "plt.figure(figsize=(12,5))\n",
    "plt.plot(history.history['loss'])\n",
    "plt.plot(history.history['val_loss'])\n",
    "plt.title('Model Loss')\n",
    "plt.ylabel('Loss')\n",
    "plt.xlabel('Epochs')\n",
    "plt.legend(['train', 'valid'])\n",
    "plt.show()"
   ]
  },
  {
   "cell_type": "code",
   "execution_count": null,
   "metadata": {},
   "outputs": [],
   "source": []
  }
 ],
 "metadata": {
  "interpreter": {
   "hash": "445fa66accd86128efeaaa39d6c658b76ed96abbf5f87ad56c27edaf76c49961"
  },
  "kernelspec": {
   "display_name": "Python 3.8.12 ('ComputerVision')",
   "language": "python",
   "name": "python3"
  },
  "language_info": {
   "codemirror_mode": {
    "name": "ipython",
    "version": 3
   },
   "file_extension": ".py",
   "mimetype": "text/x-python",
   "name": "python",
   "nbconvert_exporter": "python",
   "pygments_lexer": "ipython3",
   "version": "3.8.12"
  },
  "orig_nbformat": 4
 },
 "nbformat": 4,
 "nbformat_minor": 2
}
